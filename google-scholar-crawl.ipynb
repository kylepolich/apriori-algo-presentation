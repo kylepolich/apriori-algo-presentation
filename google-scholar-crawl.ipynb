{
 "cells": [
  {
   "cell_type": "code",
   "execution_count": 99,
   "metadata": {
    "_datascience": {},
    "collapsed": false
   },
   "outputs": [],
   "source": [
    "%matplotlib inline\n",
    "import matplotlib.pyplot as plt\n",
    "import requests\n",
    "import BeautifulSoup as soup\n",
    "import time\n",
    "import numpy as np\n",
    "import pandas as pd\n",
    "import bleach"
   ]
  },
  {
   "cell_type": "code",
   "execution_count": 18,
   "metadata": {
    "_datascience": {},
    "collapsed": true
   },
   "outputs": [],
   "source": [
    "dldict = {}"
   ]
  },
  {
   "cell_type": "code",
   "execution_count": 19,
   "metadata": {
    "_datascience": {},
    "collapsed": false
   },
   "outputs": [
    {
     "name": "stdout",
     "output_type": "stream",
     "text": [
      "Retrieving page 0\n",
      "Retrieving page 1\n",
      "Retrieving page 2\n",
      "Retrieving page 3\n",
      "Retrieving page 4\n",
      "Retrieving page 5\n",
      "Retrieving page 6\n",
      "Retrieving page 7\n",
      "Retrieving page 8\n",
      "Retrieving page 9\n",
      "Retrieving page 10\n",
      "Retrieving page 11\n",
      "Retrieving page 12\n",
      "Retrieving page 13\n",
      "Retrieving page 14\n",
      "Retrieving page 15\n",
      "Retrieving page 16\n",
      "Retrieving page 17\n",
      "Retrieving page 18\n",
      "Retrieving page 19\n",
      "Retrieving page 20\n",
      "Retrieving page 21\n",
      "Retrieving page 22\n",
      "Retrieving page 23\n",
      "Retrieving page 24\n",
      "Retrieving page 25\n",
      "Retrieving page 26\n",
      "Retrieving page 27\n",
      "Retrieving page 28\n",
      "Retrieving page 29\n",
      "Retrieving page 30\n",
      "Retrieving page 31\n",
      "Retrieving page 32\n",
      "Retrieving page 33\n",
      "Retrieving page 34\n",
      "Retrieving page 35\n",
      "Retrieving page 36\n",
      "Retrieving page 37\n",
      "Retrieving page 38\n",
      "Retrieving page 39\n",
      "Retrieving page 40\n",
      "Retrieving page 41\n",
      "Retrieving page 42\n",
      "Retrieving page 43\n",
      "Retrieving page 44\n",
      "Retrieving page 45\n",
      "Retrieving page 46\n",
      "Retrieving page 47\n",
      "Retrieving page 48\n",
      "Retrieving page 49\n",
      "Retrieving page 50\n",
      "Retrieving page 51\n",
      "Retrieving page 52\n",
      "Retrieving page 53\n",
      "Retrieving page 54\n",
      "Retrieving page 55\n",
      "Retrieving page 56\n",
      "Retrieving page 57\n",
      "Retrieving page 58\n",
      "Retrieving page 59\n",
      "Retrieving page 60\n",
      "Retrieving page 61\n",
      "Retrieving page 62\n",
      "Retrieving page 63\n",
      "Retrieving page 64\n",
      "Retrieving page 65\n",
      "Retrieving page 66\n",
      "Retrieving page 67\n",
      "Retrieving page 68\n",
      "Retrieving page 69\n",
      "Retrieving page 70\n",
      "Retrieving page 71\n",
      "Retrieving page 72\n",
      "Retrieving page 73\n",
      "Retrieving page 74\n",
      "Retrieving page 75\n",
      "Retrieving page 76\n",
      "Retrieving page 77\n",
      "Retrieving page 78\n",
      "Retrieving page 79\n",
      "Retrieving page 80\n",
      "Retrieving page 81\n",
      "Retrieving page 82\n",
      "Retrieving page 83\n",
      "Retrieving page 84\n",
      "Retrieving page 85\n",
      "Retrieving page 86\n",
      "Retrieving page 87\n",
      "Retrieving page 88\n",
      "Retrieving page 89\n",
      "Retrieving page 90\n",
      "Retrieving page 91\n",
      "Retrieving page 92\n",
      "Retrieving page 93\n",
      "Retrieving page 94\n",
      "Retrieving page 95\n",
      "Retrieving page 96\n",
      "Retrieving page 97\n",
      "Retrieving page 98\n",
      "Retrieving page 99\n"
     ]
    }
   ],
   "source": [
    "start = 0\n",
    "num_page = 20\n",
    "sc = 200\n",
    "while sc==200 and start < num_page * 100:\n",
    "    url = 'https://scholar.google.com/scholar?start=' + str(start) + '&q=%22Fast+Algorithms+for+Mining+Association+Rules%22&hl=en&num=' + str(num_page) + '&as_sdt=0,34'\n",
    "    try:\n",
    "        # Expect this to fail for pages we haven't downloaded yet, then catch and download\n",
    "        dldict[url]\n",
    "        sc = 200\n",
    "    except KeyError:\n",
    "        print 'Retrieving page', start/num_page\n",
    "        page = requests.get(url)\n",
    "        time.sleep(1)\n",
    "        sc = page.status_code\n",
    "        if sc==200:\n",
    "            dldict[url] = page.text\n",
    "    start += num_page"
   ]
  },
  {
   "cell_type": "code",
   "execution_count": 90,
   "metadata": {
    "_datascience": {},
    "collapsed": false
   },
   "outputs": [],
   "source": [
    "template_years = map(lambda x: str(x), np.arange(1994,2016))"
   ]
  },
  {
   "cell_type": "code",
   "execution_count": 109,
   "metadata": {
    "_datascience": {},
    "collapsed": false
   },
   "outputs": [
    {
     "name": "stdout",
     "output_type": "stream",
     "text": [
      "For page 0 found 20 papers\n",
      "For page 1 found 20 papers\n",
      "For page 2 found 20 papers\n",
      "For page 3 found 20 papers\n",
      "For page 4 found 20 papers\n",
      "For page 5 found 20 papers\n",
      "For page 6 found 20 papers\n",
      "For page 7 found 20 papers\n",
      "For page 8 found 20 papers\n",
      "For page 9 found 20 papers\n",
      "For page 10 found 20 papers\n",
      "For page 11 found 20 papers\n",
      "For page 12 found 20 papers\n",
      "For page 13 found 20 papers\n",
      "For page 14 found 20 papers\n",
      "For page 15 found 20 papers\n",
      "For page 16 found 20 papers\n",
      "For page 17 found 20 papers\n",
      "For page 18 found 20 papers\n",
      "For page 19 found 20 papers\n",
      "For page 20 found 20 papers\n",
      "For page 21 found 20 papers\n",
      "For page 22 found 20 papers\n",
      "For page 23 found 20 papers\n",
      "For page 24 found 20 papers\n",
      "For page 25 found 20 papers\n",
      "For page 26 found 20 papers\n",
      "For page 27 found 20 papers\n",
      "For page 28 found 20 papers\n",
      "For page 29 found 20 papers\n",
      "For page 30 found 20 papers\n",
      "For page 31 found 20 papers\n",
      "For page 32 found 20 papers\n",
      "For page 33 found 20 papers\n",
      "For page 34 found 20 papers\n",
      "For page 35 found 20 papers\n",
      "For page 36 found 20 papers\n",
      "For page 37 found 20 papers\n",
      "For page 38 found 20 papers\n",
      "For page 39 found 20 papers\n",
      "For page 40 found 20 papers\n",
      "For page 41 found 20 papers\n",
      "For page 42 found 20 papers\n",
      "For page 43 found 20 papers\n",
      "For page 44 found 20 papers\n",
      "For page 45 found 20 papers\n",
      "For page 46 found 20 papers\n",
      "For page 47 found 20 papers\n",
      "For page 48 found 20 papers\n",
      "For page 49 found 0 papers\n",
      "For page 50 found 0 papers\n",
      "For page 51 found 0 papers\n",
      "For page 52 found 0 papers\n",
      "For page 53 found 0 papers\n",
      "For page 54 found 0 papers\n",
      "For page 55 found 0 papers\n",
      "For page 56 found 0 papers\n",
      "For page 57 found 0 papers\n",
      "For page 58 found 0 papers\n",
      "For page 59 found 0 papers\n",
      "For page 60 found 0 papers\n",
      "For page 61 found 0 papers\n",
      "For page 62 found 0 papers\n",
      "For page 63 found 0 papers\n",
      "For page 64 found 0 papers\n",
      "For page 65 found 0 papers\n",
      "For page 66 found 0 papers\n",
      "For page 67 found 0 papers\n",
      "For page 68 found 0 papers\n",
      "For page 69 found 0 papers\n",
      "For page 70 found 0 papers\n",
      "For page 71 found 0 papers\n",
      "For page 72 found 0 papers\n",
      "For page 73 found 0 papers\n",
      "For page 74 found 0 papers\n",
      "For page 75 found 0 papers\n",
      "For page 76 found 0 papers\n",
      "For page 77 found 0 papers\n",
      "For page 78 found 0 papers\n",
      "For page 79 found 0 papers\n",
      "For page 80 found 0 papers\n",
      "For page 81 found 0 papers\n",
      "For page 82 found 0 papers\n",
      "For page 83 found 0 papers\n",
      "For page 84 found 0 papers\n",
      "For page 85 found 0 papers\n",
      "For page 86 found 0 papers\n",
      "For page 87 found 0 papers\n",
      "For page 88 found 0 papers\n",
      "For page 89 found 0 papers\n",
      "For page 90 found 0 papers\n",
      "For page 91 found 0 papers\n",
      "For page 92 found 0 papers\n",
      "For page 93 found 0 papers\n",
      "For page 94 found 0 papers\n",
      "For page 95 found 0 papers\n",
      "For page 96 found 0 papers\n",
      "For page 97 found 0 papers\n",
      "For page 98 found 0 papers\n",
      "For page 99 found 0 papers\n"
     ]
    }
   ],
   "source": [
    "start = 0\n",
    "num_page = 20\n",
    "running = True\n",
    "titles = []\n",
    "abstracts = []\n",
    "details = []\n",
    "years = []\n",
    "while running:\n",
    "    url = 'https://scholar.google.com/scholar?start=' + str(start) + '&q=%22Fast+Algorithms+for+Mining+Association+Rules%22&hl=en&num=' + str(num_page) + '&as_sdt=0,34'\n",
    "    try:\n",
    "        page= dldict[url]\n",
    "        s = soup.BeautifulSoup(page)\n",
    "        papers = s.findAll('div', {'class': 'gs_ri'})\n",
    "        for paper in papers:\n",
    "            title = paper.find('a').text\n",
    "            atxt = paper.find('div', {'class': 'gs_rs'})\n",
    "            if atxt is not None:\n",
    "                abstract = bleach.clean(atxt.text)\n",
    "            else:\n",
    "                abstract = ''\n",
    "            detail = paper.find('div', {'class': 'gs_a'}).text\n",
    "            y = -1\n",
    "            for y in template_years:\n",
    "                i = detail.find(y)\n",
    "                if i != -1:\n",
    "                    year = y\n",
    "                    break\n",
    "            titles.append(title)\n",
    "            abstracts.append(abstract)\n",
    "            details.append(detail)\n",
    "            years.append(year)\n",
    "        print 'For page', start/num_page, 'found', len(papers), 'papers'\n",
    "    except KeyError:\n",
    "        running = False\n",
    "    start += num_page"
   ]
  },
  {
   "cell_type": "code",
   "execution_count": 92,
   "metadata": {
    "_datascience": {},
    "collapsed": false
   },
   "outputs": [],
   "source": [
    "df = pd.DataFrame({'title': titles, 'abstract': abstracts, 'details': details, 'year': years})"
   ]
  },
  {
   "cell_type": "code",
   "execution_count": 103,
   "metadata": {
    "_datascience": {},
    "collapsed": false
   },
   "outputs": [],
   "source": [
    "citations = df.groupby(['year'])['title'].count()"
   ]
  },
  {
   "cell_type": "code",
   "execution_count": 108,
   "metadata": {
    "_datascience": {},
    "collapsed": false
   },
   "outputs": [
    {
     "data": {
      "image/png": "[encoded data removed]",
      "text/plain": [
       "<matplotlib.figure.Figure at 0x7fc1ec537110>"
      ]
     },
     "metadata": {},
     "output_type": "display_data"
    }
   ],
   "source": [
    "plt.figure(figsize=(15,5))\n",
    "plt.plot(citations.index, citiations)\n",
    "plt.xlabel('year', fontsize=22)\n",
    "plt.ylabel('number of citations', fontsize=22)\n",
    "plt.show()"
   ]
  },
  {
   "cell_type": "code",
   "execution_count": 81,
   "metadata": {
    "_datascience": {},
    "collapsed": false
   },
   "outputs": [],
   "source": [
    "# USED THIS CELL FOR DEBUGGING PURPOSES\n",
    "\n",
    "#import IPython\n",
    "#IPython.display.HTML(page)"
   ]
  }
 ],
 "metadata": {
  "_datascience": {},
  "kernelspec": {
   "display_name": "Python 2",
   "language": "python",
   "name": "python2"
  },
  "language_info": {
   "codemirror_mode": {
    "name": "ipython",
    "version": 2
   },
   "file_extension": ".py",
   "mimetype": "text/x-python",
   "name": "python",
   "nbconvert_exporter": "python",
   "pygments_lexer": "ipython2",
   "version": "2.7.6"
  }
 },
 "nbformat": 4,
 "nbformat_minor": 0
}
