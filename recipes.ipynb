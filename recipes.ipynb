{
 "cells": [
  {
   "cell_type": "code",
   "execution_count": 2,
   "metadata": {
    "_datascience": {},
    "collapsed": false
   },
   "outputs": [],
   "source": [
    "%matplotlib inline\n",
    "import matplotlib.pyplot as plt\n",
    "import pandas as pd\n",
    "import json\n",
    "import string\n",
    "from fractions import Fraction\n",
    "from collections import defaultdict\n",
    "import apriori"
   ]
  },
  {
   "cell_type": "code",
   "execution_count": 3,
   "metadata": {
    "_datascience": {},
    "collapsed": false
   },
   "outputs": [],
   "source": [
    "f = open('recipeitems-latest.json', 'r')\n",
    "lines = f.readlines()\n",
    "f.close()\n",
    "recipes = []\n",
    "for line in lines:\n",
    "    recipe = json.loads(line)\n",
    "    recipes.append(recipe)\n"
   ]
  },
  {
   "cell_type": "code",
   "execution_count": 4,
   "metadata": {
    "_datascience": {},
    "collapsed": false
   },
   "outputs": [],
   "source": [
    "allingredients = []\n",
    "allnames = []\n",
    "for recipe in recipes:\n",
    "    name = recipe['name']\n",
    "    ingredients = recipe['ingredients'].split('\\n')\n",
    "    allingredients.extend(ingredients)\n",
    "    for i in ingredients:\n",
    "        allnames.append(name)"
   ]
  },
  {
   "cell_type": "code",
   "execution_count": 5,
   "metadata": {
    "_datascience": {},
    "collapsed": true
   },
   "outputs": [],
   "source": [
    "empty_words = ['freerange', 'organic', 'ripe', 'freshly', 'dried', 'fresh', 'thin', 'thick', 'chopped',\n",
    "               'ground', 'cooked', 'kosher', 'cut', 'into', 'wedges', 'diced', 'trimmed', 'grated',\n",
    "               'halved', 'lengthwise', 'and', 'pieces', 'medium', 'peeled', 'grated', 'thinkly', 'sliced',\n",
    "              'quartered', 'good-quality', 'good', 'quality']"
   ]
  },
  {
   "cell_type": "code",
   "execution_count": 6,
   "metadata": {
    "_datascience": {},
    "collapsed": true
   },
   "outputs": [],
   "source": [
    "iwords = ['cup', 'teaspoon', 'tablespoons', 'cups', 'whole', 'tablespoon', 'teaspoons', 'ounces', 'tbsp', 'tsp',\n",
    " 'large', 'pound', 'can', 'pinch', 'pounds', 'tbs', 'medium', 'small', 'slices', 'package', 'bunch', 'g',\n",
    " 'dash', 'lb', 'oz', 'stick', 'cans', 'fl', 'sprigs', 'stalks', 'box', 'ounce', 'pieces', 'fluid', 'sticks',\n",
    " 'pint', 'bag', 'dashes', 'jar', 'quart', 'pinches', 'ml', 'packages', 'quarts', 'grams', 'sprig',\n",
    " 'drops', 'tb', 'stalk', 'bottle', 'handful', 'c', 'strips', 'container', 'bunches', 'cubes', 'slice', 'heads',\n",
    " 'handfuls', 'piece', 'milliliters', 't', 'kg', 'pints', 'lbs', 'cube', 'gallon', 'bulb', 'block', 'boxes',\n",
    " 'packet', 'jars']"
   ]
  },
  {
   "cell_type": "code",
   "execution_count": 7,
   "metadata": {
    "_datascience": {},
    "collapsed": true
   },
   "outputs": [],
   "source": [
    "confirmed_measurement_terms = defaultdict(int)\n",
    "filter_map = defaultdict(int)\n",
    "\n",
    "for word in empty_words:\n",
    "    filter_map[word] = 1\n",
    "\n",
    "for word in iwords:\n",
    "    confirmed_measurement_terms[word] = 1"
   ]
  },
  {
   "cell_type": "code",
   "execution_count": 8,
   "metadata": {
    "_datascience": {},
    "collapsed": true
   },
   "outputs": [],
   "source": [
    "def get_numeric(x):\n",
    "    x = x.replace('~', '')\n",
    "    x = x.replace('?', '0')\n",
    "    try:\n",
    "        amt = float(sum(Fraction(s) for s in x.split()))\n",
    "        return amt\n",
    "    except ValueError:\n",
    "        arr = x.split('-')\n",
    "        if len(arr)==2:\n",
    "            try:\n",
    "                amt1 = float(sum(Fraction(s) for s in arr[0].split()))\n",
    "                amt2 = float(sum(Fraction(s) for s in arr[1].split()))\n",
    "                return amt1 + amt2\n",
    "            except ValueError:\n",
    "                return -1\n",
    "        return -1"
   ]
  },
  {
   "cell_type": "code",
   "execution_count": 9,
   "metadata": {
    "_datascience": {},
    "collapsed": true
   },
   "outputs": [],
   "source": [
    "def remove_parenthesis_content(x):\n",
    "    i = x.find('(')\n",
    "    if i == -1:\n",
    "        return x\n",
    "    j = x.find(')', i)\n",
    "    if j == -1:\n",
    "        return x\n",
    "    return x[0:i] + x[(j+1):len(x)]"
   ]
  },
  {
   "cell_type": "code",
   "execution_count": 10,
   "metadata": {
    "_datascience": {},
    "collapsed": false
   },
   "outputs": [
    {
     "data": {
      "text/html": [
       "<div style=\"max-height:1000px;max-width:1500px;overflow:auto;\">\n",
       "<table border=\"1\" class=\"dataframe\">\n",
       "  <thead>\n",
       "    <tr style=\"text-align: right;\">\n",
       "      <th></th>\n",
       "      <th>amount</th>\n",
       "      <th>ingredient</th>\n",
       "      <th>measurement</th>\n",
       "      <th>name</th>\n",
       "      <th>raw</th>\n",
       "    </tr>\n",
       "  </thead>\n",
       "  <tbody>\n",
       "    <tr>\n",
       "      <th>0</th>\n",
       "      <td>1</td>\n",
       "      <td>biscuits</td>\n",
       "      <td></td>\n",
       "      <td>Drop Biscuits and Sausage Gravy</td>\n",
       "      <td>Biscuits</td>\n",
       "    </tr>\n",
       "    <tr>\n",
       "      <th>1</th>\n",
       "      <td>3</td>\n",
       "      <td>all-purpose flour</td>\n",
       "      <td>cups</td>\n",
       "      <td>Drop Biscuits and Sausage Gravy</td>\n",
       "      <td>3 cups All-purpose Flour</td>\n",
       "    </tr>\n",
       "    <tr>\n",
       "      <th>2</th>\n",
       "      <td>2</td>\n",
       "      <td>baking powder</td>\n",
       "      <td>tablespoons</td>\n",
       "      <td>Drop Biscuits and Sausage Gravy</td>\n",
       "      <td>2 Tablespoons Baking Powder</td>\n",
       "    </tr>\n",
       "    <tr>\n",
       "      <th>3</th>\n",
       "      <td>3</td>\n",
       "      <td>salt</td>\n",
       "      <td>teaspoon</td>\n",
       "      <td>Drop Biscuits and Sausage Gravy</td>\n",
       "      <td>1/2 teaspoon Salt</td>\n",
       "    </tr>\n",
       "    <tr>\n",
       "      <th>4</th>\n",
       "      <td>4</td>\n",
       "      <td>cold butter</td>\n",
       "      <td>stick</td>\n",
       "      <td>Drop Biscuits and Sausage Gravy</td>\n",
       "      <td>1-1/2 stick (3/4 Cup) Cold Butter, Cut Into Pi...</td>\n",
       "    </tr>\n",
       "  </tbody>\n",
       "</table>\n",
       "</div>"
      ],
      "text/plain": [
       "   amount         ingredient   measurement                             name  \\\n",
       "0       1           biscuits                Drop Biscuits and Sausage Gravy   \n",
       "1       3  all-purpose flour         cups   Drop Biscuits and Sausage Gravy   \n",
       "2       2      baking powder  tablespoons   Drop Biscuits and Sausage Gravy   \n",
       "3       3               salt     teaspoon   Drop Biscuits and Sausage Gravy   \n",
       "4       4       cold butter         stick   Drop Biscuits and Sausage Gravy   \n",
       "\n",
       "                                                 raw  \n",
       "0                                           Biscuits  \n",
       "1                           3 cups All-purpose Flour  \n",
       "2                        2 Tablespoons Baking Powder  \n",
       "3                                  1/2 teaspoon Salt  \n",
       "4  1-1/2 stick (3/4 Cup) Cold Butter, Cut Into Pi...  "
      ]
     },
     "execution_count": 10,
     "metadata": {},
     "output_type": "execute_result"
    }
   ],
   "source": [
    "unmatched = []\n",
    "raw = []\n",
    "names = []\n",
    "measures = defaultdict(int)\n",
    "pingredients = []\n",
    "measurel = []\n",
    "amts = []\n",
    "\n",
    "for ingredient, name in zip(allingredients, allnames):\n",
    "    oingredient = ingredient\n",
    "    i = 0\n",
    "    ingredient = ingredient.replace(',', ' ').encode('ascii', 'replace')\n",
    "    ingredient = remove_parenthesis_content(ingredient)\n",
    "    terms = ingredient.lower().strip().replace('\\t', ' ').replace('/', ' ').split(' ')\n",
    "    terms = [term.strip() for term in terms]\n",
    "    try:\n",
    "        terms.remove('')\n",
    "    except ValueError:\n",
    "        i=0\n",
    "    tamt = 0\n",
    "    amt = 0\n",
    "    while i < len(terms) and amt >= 0:\n",
    "        amt = get_numeric(terms[i])\n",
    "        if amt != -1:\n",
    "            tamt += amt\n",
    "            i += 1\n",
    "    measure = ''\n",
    "    c = 1\n",
    "    ing = ''\n",
    "    while i < len(terms) and c > 0:\n",
    "        c = confirmed_measurement_terms[terms[i]]\n",
    "        if c > 0:\n",
    "            measure += terms[i] + ' '\n",
    "            i += 1\n",
    "    ing = ''\n",
    "    j = i\n",
    "    while i < len(terms):\n",
    "        c2 = filter_map[terms[i]]\n",
    "        if c2 == 0:\n",
    "            if len(ing) > 0:\n",
    "                ing += ' ' + terms[i]\n",
    "            else:\n",
    "                ing += terms[i]\n",
    "        i+=1\n",
    "    if tamt == 0:\n",
    "        tamt = 1.0\n",
    "    if ' '.join(terms[0:j]) != ing:\n",
    "        #print tamt, '|', measure, '|', ing, '|', ingredient\n",
    "        amts.append(tamt)\n",
    "        pingredients.append(ing)\n",
    "        measurel.append(measure)\n",
    "        raw.append(oingredient)\n",
    "        names.append(name)\n",
    "\n",
    "df = pd.DataFrame({'raw': raw, 'name': names, 'ingredient': pingredients, 'amount': amts, 'measurement': measurel})\n",
    "df['ingredient'] = df['ingredient'].apply(lambda x: x.encode('ascii', 'replace'))\n",
    "df.head()"
   ]
  },
  {
   "cell_type": "code",
   "execution_count": 11,
   "metadata": {
    "_datascience": {},
    "collapsed": false
   },
   "outputs": [],
   "source": [
    "df.to_csv('recipes.csv', sep='\\t', index=False, encoding='utf-8')"
   ]
  },
  {
   "cell_type": "code",
   "execution_count": 12,
   "metadata": {
    "_datascience": {},
    "collapsed": false
   },
   "outputs": [
    {
     "data": {
      "text/plain": [
       "(0, 10)"
      ]
     },
     "execution_count": 12,
     "metadata": {},
     "output_type": "execute_result"
    },
    {
     "data": {
      "image/png": "[encoded data removed]",
      "text/plain": [
       "<matplotlib.figure.Figure at 0x7f8fa9fe6210>"
      ]
     },
     "metadata": {},
     "output_type": "display_data"
    }
   ],
   "source": [
    "gp = pd.DataFrame(df.groupby(['ingredient'])['amount'].count())\n",
    "gp.sort('amount', inplace=True, ascending=0)\n",
    "plt.plot(gp.amount)\n",
    "plt.ylim([0, 10])"
   ]
  },
  {
   "cell_type": "code",
   "execution_count": 13,
   "metadata": {
    "_datascience": {},
    "collapsed": false
   },
   "outputs": [
    {
     "data": {
      "text/plain": [
       "5.8387741407769127"
      ]
     },
     "execution_count": 13,
     "metadata": {},
     "output_type": "execute_result"
    }
   ],
   "source": [
    "gp.amount.mean()"
   ]
  },
  {
   "cell_type": "code",
   "execution_count": null,
   "metadata": {
    "_datascience": {},
    "collapsed": true
   },
   "outputs": [],
   "source": []
  }
 ],
 "metadata": {
  "_datascience": {},
  "kernelspec": {
   "display_name": "Python 2",
   "language": "python",
   "name": "python2"
  },
  "language_info": {
   "codemirror_mode": {
    "name": "ipython",
    "version": 2
   },
   "file_extension": ".py",
   "mimetype": "text/x-python",
   "name": "python",
   "nbconvert_exporter": "python",
   "pygments_lexer": "ipython2",
   "version": "2.7.6"
  }
 },
 "nbformat": 4,
 "nbformat_minor": 0
}
